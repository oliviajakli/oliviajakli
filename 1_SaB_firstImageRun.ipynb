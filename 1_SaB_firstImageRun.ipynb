{
  "cells": [
    {
      "cell_type": "markdown",
      "metadata": {
        "id": "view-in-github",
        "colab_type": "text"
      },
      "source": [
        "<a href=\"https://colab.research.google.com/github/oliviajakli/oliviajakli/blob/main/1_SaB_firstImageRun.ipynb\" target=\"_parent\"><img src=\"https://colab.research.google.com/assets/colab-badge.svg\" alt=\"Open In Colab\"/></a>"
      ]
    },
    {
      "cell_type": "markdown",
      "metadata": {
        "id": "qsxlBnpOELXn"
      },
      "source": [
        "# Imports and Authorizations"
      ]
    },
    {
      "cell_type": "code",
      "execution_count": null,
      "metadata": {
        "id": "3qSnkbcaCrVX"
      },
      "outputs": [],
      "source": [
        "# Imports used in this notebook.\n",
        "import ee\n",
        "import os\n",
        "import folium\n",
        "import sys\n",
        "import time\n",
        "import shutil\n",
        "import pandas as pd\n",
        "import seaborn as sea\n",
        "import numpy as np\n",
        "import matplotlib as mpl\n",
        "import matplotlib.pyplot as plt\n",
        "from ee import batch\n",
        "from matplotlib import cm\n",
        "from google.colab import drive\n",
        "\n",
        "# Must authenticate your EE account before use of the package.\n",
        "ee.Authenticate()\n",
        "\n",
        "ee.Initialize(project='ksu-skytruth-vpca-automation')\n",
        "# Try adding ,opt_url='https://earthengine-highvolume.googleapis.com')\n",
        "\n",
        "# This is how we can access our drive to get the correlation product.\n",
        "drive.mount('/content/gdrive')"
      ]
    },
    {
      "cell_type": "markdown",
      "metadata": {
        "id": "H30mKkUJrm8k"
      },
      "source": [
        "# Set the IRL AOI."
      ]
    },
    {
      "cell_type": "code",
      "execution_count": null,
      "metadata": {
        "id": "QN8d_PMwrqf0"
      },
      "outputs": [],
      "source": [
        "#Sandusky Bay, Ohio\n",
        "siteName = 'Sandusky Bay'\n",
        "#Must be 3 characters long\n",
        "siteName_2char = 'SaB'\n",
        "\n",
        "#Define coordinates\n",
        "upperLeft = [-83.20, 41.55]\n",
        "lowerRight = [-82.575, 41.36]\n",
        "\n",
        "# Define a region of interest to filter our collection.\n",
        "roi = ee.Geometry.Rectangle(upperLeft[0], upperLeft[1], lowerRight[0], lowerRight[1]) # vector data type describing a rectangular polygon"
      ]
    },
    {
      "cell_type": "markdown",
      "metadata": {
        "id": "gcJ1NhdSrtG5"
      },
      "source": [
        "# Select our Landsat 8 imagery\n"
      ]
    },
    {
      "cell_type": "code",
      "execution_count": null,
      "metadata": {
        "id": "0-IjlgsyAsgX"
      },
      "outputs": [],
      "source": [
        "# List of dates.\n",
        "date_list = [\n",
        "ee.Date('2023-09-01'),\n",
        "ee.Date('2023-08-22'), # cloudiest\n",
        "ee.Date('2023-07-18'), # 2nd most cloudy\n",
        "ee.Date('2023-06-18'), # could replace with '2023-06-03'\n",
        "ee.Date('2023-05-09'), # could replace with '2023-05-29'\n",
        "ee.Date('2022-09-01'),\n",
        "ee.Date('2022-08-27'), # could replace with '2022-08-12'\n",
        "ee.Date('2022-07-03'),\n",
        "ee.Date('2022-06-18'), # could replace with '2022-06-28'\n",
        "ee.Date('2022-05-09'),\n",
        "ee.Date('2021-09-06'),\n",
        "ee.Date('2021-08-22'),\n",
        "ee.Date('2021-07-18'), # could replace with '2021-07-28'\n",
        "ee.Date('2021-06-13'), # lots of cloud cover\n",
        "ee.Date('2021-05-21') # could replace with '2021-05-14'\n",
        "# ee.Date('2020-09-21'),\n",
        "# ee.Date('2020-08-22'),\n",
        "# ee.Date('2020-07-18'),\n",
        "# ee.Date('2020-06-08'),\n",
        "# ee.Date('2020-05-24') # thin, wispy clouds\n",
        "]\n",
        "\n",
        "\n",
        "\n",
        "im_list = []\n",
        "\n",
        "# Start Standard code for processing images from a collection.\n",
        "for date in date_list:\n",
        "\n",
        "  # Bring in our imagery.\n",
        "  coll = (ee.ImageCollection(\"COPERNICUS/S2_SR_HARMONIZED\") # stack (time-series) of images\n",
        "              .filterBounds(roi)\n",
        "              .filterDate(date, date.advance(1,'day')))\n",
        "\n",
        "  # Clip our input image to our region of interest.\n",
        "  # Set the name of the original image to our new image.\n",
        "  water = coll.mosaic().clip(roi).set({'name':coll.first().get('system:index')})\n",
        "\n",
        "  # Add the newly created image to the empty list created above.\n",
        "  im_list += [water]\n",
        "\n",
        "# Make an EE Collection out of the list we created.\n",
        "im_list = ee.ImageCollection(im_list)"
      ]
    },
    {
      "cell_type": "markdown",
      "metadata": {
        "id": "rZsfGEMGjW-4"
      },
      "source": [
        "# Begin analysis"
      ]
    },
    {
      "cell_type": "code",
      "execution_count": null,
      "metadata": {
        "id": "GIryi9D2ttQ9"
      },
      "outputs": [],
      "source": [
        "# Name the parent folder where we're writing our output files.\n",
        "output_folder = '/content/gdrive/My Drive/test_SaB'\n",
        "\n",
        "# Define the Sentinel-2 bands to extract\n",
        "non_ee_band_list = ['B1','B2', 'B3', 'B4', 'B5', 'B6', 'B7', 'B8', 'B8A']\n",
        "\n",
        "# For reductions.\n",
        "native_res = 10\n",
        "maxP = 1e6\n",
        "\n",
        "# Array of wavelength corrections for Sentinel-2 sensor.\n",
        "wl = ee.Array([443.9,496.6,560.0,664.5,703.9,740.2,782.5,835.1,864.8])\n",
        "# Nominal Copernicus S2A Wavelength Values\n",
        "# wl = ee.Array([442.7,492.7,559.8,664.4,704.1,740.5,782.8,832.8,864.7])\n",
        "# Name the band combo for outputs.\n",
        "bandCombo=\"B1-B8A\"\n",
        "\n",
        "\"\"\" Bands and Wavelength Array to select. You can add or subtract any you'd like here and the code\n",
        "    below will account for the change throughout the workflow. \"\"\"\n",
        "\n",
        "# Use this for the derivative calculation.\n",
        "band_list_early_length = len(non_ee_band_list)\n",
        "# We use this everywhere else after the derivative calc (original band list x2).\n",
        "#band_list_length = band_list_early_length * 2\n",
        "band_list_length = band_list_early_length\n",
        "# Use this in a couple for loops throughout the code.\n",
        "band_list_forLoops = range(band_list_length)"
      ]
    },
    {
      "cell_type": "code",
      "execution_count": null,
      "metadata": {
        "id": "9iuEV8AsFnr7"
      },
      "outputs": [],
      "source": [
        "def derivative_images(water):\n",
        "\n",
        "  \"\"\"This section is devoted to modifying the image, making it suitable for\n",
        "     the Derivative Spectra function, and running the DS function.\"\"\"\n",
        "\n",
        "  # This function masks the cloudy pixels and identifies the water pixels.\n",
        "  def get_water(image):\n",
        "\n",
        "    # Water with cloud check, but note this is the not bit addition method.\n",
        "    water_pixels = (image.select('QA60').eq(0).And(image.select('SCL').eq(6)))\n",
        "    # water_pixels=image.select('QA60')\n",
        "    # cloudBitMask=1 << 10\n",
        "    # cirrusBitMask=1 << 11\n",
        "    # mask = water_pixels.bitwiseAnd(cloudBitMask).eq(0).And(water_pixels.bitwiseAnd(cirrusBitMask).eq(0))\n",
        "    # water_pixels = (image.select('SCL').eq(6).And(image.select('SCL').lt(7)))\n",
        "    # Mask all non-water pixels in the image.\n",
        "    image = image.updateMask(water_pixels)\n",
        "\n",
        "    return image\n",
        "\n",
        "  # Run the S2 mask on the test images.\n",
        "  water_mask = get_water(water)\n",
        "\n",
        "  # Binary reducer, which returns 1 everywhere that water hasn't been masked.\n",
        "  mask_image = water_mask.reduce(ee.Reducer.anyNonZero())\n",
        "\n",
        "  # Any pixels passing the pixel mask will now be polygonized.\n",
        "  water_geom = mask_image.reduceToVectors(scale = native_res,\n",
        "                                          geometry = roi,\n",
        "                                          maxPixels = maxP,\n",
        "                                          bestEffort = True,\n",
        "                                          tileScale = 16)\n",
        "\n",
        "  # This function will select the bands of importance and clip the raster.\n",
        "  def selAndClip(masked_image,geo):\n",
        "\n",
        "    clipped = masked_image.select(non_ee_band_list).clip(geo)\n",
        "\n",
        "    return clipped.toDouble()\n",
        "\n",
        "  # Run the select and clip function on the test images, converts the pixels values to double precision.\n",
        "  clipped_image = selAndClip(water_mask,water_geom)\n",
        "\n",
        "  # Add code below to divide the reflectance bands by 10^4 to scale from 0 to 1\n",
        "  clipped_image = clipped_image.multiply(0.0001)\n",
        "\n",
        "  # This function calculates the derivative bands that will also be used in the PCA analysis.\n",
        "  def derivativeSpectra(img,numBands):\n",
        "\n",
        "    drdlraster = None\n",
        "\n",
        "    for i in range(numBands):\n",
        "\n",
        "      # Special case of the equation is required for the first band.\n",
        "      if i == 0:\n",
        "        drdlraster = img.expression(\n",
        "          '(secondBand - firstBand)/(secondIndex - firstIndex)',\n",
        "          {\n",
        "          'secondBand': img.select(i+1),\n",
        "          'firstBand': img.select(i),\n",
        "          'secondIndex': wl.get([i+1]),\n",
        "          'firstIndex': wl.get([i])\n",
        "          }).rename('image_Index' + str(i) + '_derivative')\n",
        "\n",
        "      # Special case of the equation is required for the last band.\n",
        "      elif i == (numBands-1):\n",
        "\n",
        "        drdlraster = img.expression(\n",
        "          '(secondBand - firstBand)/(secondIndex - firstIndex)',\n",
        "          {\n",
        "          'secondBand': img.select(i),\n",
        "          'firstBand': img.select(i-1),\n",
        "          'secondIndex': wl.get([i]),\n",
        "          'firstIndex': wl.get([i-1])\n",
        "          }).rename('image_Index' + str(i) + '_derivative')\n",
        "\n",
        "      # Apply equation for all other bands in the image.\n",
        "      else:\n",
        "        drdlraster = img.expression(\n",
        "          '(secondBand - firstBand)/(secondIndex - firstIndex)',\n",
        "          {\n",
        "          'secondBand': img.select(i+1),\n",
        "          'firstBand': img.select(i-1),\n",
        "          'secondIndex': wl.get([i+1]),\n",
        "          'firstIndex': wl.get([i-1])\n",
        "          }).rename('image_Index' + str(i) + '_derivative')\n",
        "\n",
        "      # Adds derivative bands to the input image.\n",
        "      img = img.addBands(drdlraster)\n",
        "\n",
        "    # Final image has the name of its original image reassigned.\n",
        "    # This is used for file naming conventions later on.\n",
        "    return img.set({'name': water.get('name')}).select(8,9,10,11,12,13,14,15,16)\n",
        "\n",
        "  # Run the Derivative Spectra function on the test image.\n",
        "  d_image = derivativeSpectra(clipped_image,band_list_early_length)\n",
        "# Apply a Gaussian smoother to the image to reduce high frequency noise\n",
        "#smooth_kernel hold the kernel function; select various odd values to change the kernel size.\n",
        "  smooth_kernel = ee.Kernel.gaussian(radius = 3)\n",
        "# apply the smoothing kernal using the ee.convolve function\n",
        "  d_image = d_image.convolve(smooth_kernel)\n",
        "  return d_image"
      ]
    },
    {
      "cell_type": "code",
      "execution_count": null,
      "metadata": {
        "id": "iasoMhwNsFAL"
      },
      "outputs": [],
      "source": [
        "# Make derivative images for all of our images of interest.\n",
        "der_list = im_list.map(derivative_images)"
      ]
    },
    {
      "cell_type": "markdown",
      "metadata": {
        "id": "xelgt_3ReA0R"
      },
      "source": [
        "# Determine Correlation Matrix for image"
      ]
    },
    {
      "cell_type": "code",
      "execution_count": null,
      "metadata": {
        "id": "lmZlww75GqXH"
      },
      "outputs": [],
      "source": [
        "\"\"\"The following section is devoted to the correlation matrix\n",
        "   creation process, as well as the eigen analysis.\"\"\"\n",
        "\n",
        "def pearCorr(img, starting_band_index):\n",
        "\n",
        "  # This is distinct from the other list of band names because this is an EE object.\n",
        "  # Therefore, this can utilize EE-side functions, like get().\n",
        "  band_list = img.bandNames()\n",
        "\n",
        "  # This will be filled with correlation values.\n",
        "  emptyList = ee.List([])\n",
        "\n",
        "  # Loop through band names.\n",
        "  for i in band_list_forLoops:\n",
        "\n",
        "    # Get band name based on index.\n",
        "    corr_band = band_list.get(i)\n",
        "\n",
        "    # Select the defined band from the input image.\n",
        "    one = img.select([starting_band_index])\n",
        "\n",
        "    # Select the second band of interest.\n",
        "    two = img.select([corr_band])\n",
        "\n",
        "    # Combine the two selected bands into a new image.\n",
        "    cat = ee.Image.cat(one, two)\n",
        "\n",
        "    # Compute the correlation between the bands in the newly created image.\n",
        "    corr = cat.reduceRegion(\n",
        "               reducer = ee.Reducer.pearsonsCorrelation(),\n",
        "               geometry = roi,\n",
        "               scale = native_res,\n",
        "               maxPixels = maxP,\n",
        "               bestEffort = True)\n",
        "\n",
        "    # Get the correlation value out of the reduceRegion() dictionary.\n",
        "    corr_value = corr.getNumber('correlation')\n",
        "\n",
        "    # Push the new correlation value into our empty list.\n",
        "    emptyList = emptyList.add(corr_value)\n",
        "\n",
        "  return emptyList"
      ]
    },
    {
      "cell_type": "code",
      "execution_count": null,
      "metadata": {
        "id": "7o4nEbVfgPi6"
      },
      "outputs": [],
      "source": [
        "# This code will be used for making some subfolders and writing image data to said folders.\n",
        "\n",
        "# Convert our stack of EE images to an EE List.\n",
        "image_list = der_list.toList(der_list.size())\n",
        "# Get the size of the list. This will be used for the list comprehension in\n",
        "# the next line.\n",
        "size = image_list.size().getInfo()\n",
        "\n",
        "# Using the variables created above, get the names of the images that we are using in our analysis.\n",
        "image_names = [ee.Image(image_list.get(i)).get('name').getInfo() for i in range(size)]"
      ]
    },
    {
      "cell_type": "code",
      "execution_count": null,
      "metadata": {
        "id": "ffwjinOS_m1v"
      },
      "outputs": [],
      "source": [
        "image_names"
      ]
    },
    {
      "cell_type": "code",
      "execution_count": null,
      "metadata": {
        "id": "vat-m1xmEgOD"
      },
      "outputs": [],
      "source": [
        "# This is where each respective image's information will be saved.\n",
        "# Notice that we're using the image names we just made.\n",
        "for name in image_names:\n",
        "  os.mkdir(f'{output_folder}/{name}_outputs')"
      ]
    },
    {
      "cell_type": "code",
      "execution_count": null,
      "metadata": {
        "id": "Ei1xqQVXfYmY"
      },
      "outputs": [],
      "source": [
        "# List our directory of folders, which we can utilize to write files.\n",
        "im_folders = os.listdir(f'{output_folder}')"
      ]
    },
    {
      "cell_type": "code",
      "execution_count": null,
      "metadata": {
        "id": "FGcBew0EbRgF"
      },
      "outputs": [],
      "source": [
        "# Append \"_outputs\" to the name of each image. Just a matter of file naming here.\n",
        "im_folders = [name+'_outputs' for name in image_names]"
      ]
    },
    {
      "cell_type": "code",
      "execution_count": null,
      "metadata": {
        "id": "7PH0WqAa_uJ2"
      },
      "outputs": [],
      "source": [
        "im_folders"
      ]
    },
    {
      "cell_type": "code",
      "execution_count": null,
      "metadata": {
        "id": "mvkv1XjanIz7"
      },
      "outputs": [],
      "source": [
        "# Here, we export our correlation matrices and pixel counts.\n",
        "def export_corr(d_image, out):\n",
        "  d_image = ee.Image(d_image)\n",
        "\n",
        "  # List comprehension to compile all of our correlation values (per image).\n",
        "  # We also grab the number of pixels visible in the image, which is used for weighting.\n",
        "  corr_ls = ee.Feature(None, {'correlation_list':[pearCorr(d_image, i) for i in band_list_forLoops],\n",
        "                              'pixel_count': d_image.reduceRegion(ee.Reducer.count(),roi,maxPixels = maxP, scale = native_res, bestEffort = True, tileScale = 16).get('image_Index0_derivative')})\n",
        "\n",
        "  # Name our output file.\n",
        "  runtime_filename = f'6VPCA_{siteName_2char}_{d_image.get(\"name\").getInfo()}_correlation_{bandCombo}'\n",
        "\n",
        "  # Create our export task.\n",
        "  intermission = ( batch.Export.table.toDrive(\n",
        "                   collection = ee.FeatureCollection(corr_ls),\n",
        "                   description = runtime_filename,\n",
        "                   fileFormat = 'CSV') )\n",
        "\n",
        "  # Initialize our task.\n",
        "  batch.Task.start(intermission)\n",
        "\n",
        "  # Monitor the task.\n",
        "  i = 1\n",
        "  # While running, give us an update.\n",
        "  while intermission.status()['state'] in ['READY', 'RUNNING']:\n",
        "    sys.stdout.write(\"\\r\" + f'Correlation export status update #{i}: ' + str(intermission.status()))\n",
        "    sys.stdout.flush()\n",
        "    i += 1\n",
        "    #time changed from 20 double if having issues\n",
        "    time.sleep(30)\n",
        "\n",
        "  # When finished running, let us know what happened.\n",
        "  else:\n",
        "    print('Correlation export completed...')\n",
        "    print(intermission.status())\n",
        "    # Give your Drive a chance to update with changes made to your storage.\n",
        "    #time changed from 20 double if having issues\n",
        "    time.sleep(30)\n",
        "\n",
        "    # Move your newly created files to the places they need to be.\n",
        "    try:\n",
        "      # Found here: https://stackoverflow.com/questions/51109931/moving-files-in-google-colab\n",
        "      shutil.move(f'/content/gdrive/My Drive/{runtime_filename}.csv',f'{output_folder}/{out}')\n",
        "\n",
        "    except:\n",
        "      #double time if having issues\n",
        "      time.sleep(60)\n",
        "      shutil.move(f'/content/gdrive/My Drive/{runtime_filename}.csv',f'{output_folder}/{out}')\n",
        "\n",
        "# Run the correlation export for every file in our image stack.\n",
        "for i in range(len(im_folders)):\n",
        "  export_corr(image_list.get(i),im_folders[i])"
      ]
    },
    {
      "cell_type": "markdown",
      "metadata": {
        "id": "3gAgj-yboUfA"
      },
      "source": [
        "# Begin section for correlation graph"
      ]
    },
    {
      "cell_type": "code",
      "execution_count": null,
      "metadata": {
        "id": "Jm6651aOMcBf"
      },
      "outputs": [],
      "source": [
        "# Find all of the files in our output folder.\n",
        "csv_files = []\n",
        "# For a description of the functionality of os.walk(), see below:\n",
        "# https://www.tutorialspoint.com/python/os_walk.htm\n",
        "for subdir, dirs, files in os.walk(f'{output_folder}'):\n",
        "  for file in files:\n",
        "    if \"_correlation\" in file and \"Viz\" not in file and 'gsheet' not in file:\n",
        "      csv_files += [os.path.join(subdir,file)]"
      ]
    },
    {
      "cell_type": "code",
      "execution_count": null,
      "metadata": {
        "id": "lXN0yR7RlGRE"
      },
      "outputs": [],
      "source": [
        "csv_files"
      ]
    },
    {
      "cell_type": "code",
      "execution_count": null,
      "metadata": {
        "id": "VGndlrEMRFnp"
      },
      "outputs": [],
      "source": [
        "# counter\n",
        "i = 0\n",
        "\n",
        "for fn in csv_files:\n",
        "\n",
        "  # First, load our csv file into a Pandas DataFrame.\n",
        "  drive_string = fn\n",
        "  dataframe = pd.read_csv(drive_string, delimiter = ',', converters = {'correlation_list': eval})\n",
        "\n",
        "  # Next, convert our dataframe to a list.\n",
        "  print (dataframe)\n",
        "  corr_ls = dataframe['correlation_list'].tolist()[0]\n",
        "\n",
        "  # Initially found here: https://stackoverflow.com/questions/33282368/plotting-a-2d-heatmap-with-matplotlib\n",
        "  # Create a 2D heat map using Seaborn.\n",
        "\n",
        "  # Use this code to allow for differing number of bands processed\n",
        "  labels = [f'd{non_ee_band_list[x]}' for x in range(band_list_early_length)]\n",
        "\n",
        "  # Mask redundant info from the correlation array visualization.\n",
        "  mask = np.zeros_like(corr_ls)\n",
        "  mask[np.triu_indices_from(mask)] = True\n",
        "\n",
        "  # Create matplotlib figure to place our heatmap in.\n",
        "  fig = plt.figure(figsize = (20,20))\n",
        "  heat = sea.heatmap(corr_ls, square = False, mask = mask, cmap = 'coolwarm', annot = True)\n",
        "  heat.set_xticklabels(labels)\n",
        "  heat.set_yticklabels(labels)\n",
        "\n",
        "  for tick in heat.get_yticklabels():\n",
        "    tick.set_rotation(0)\n",
        "\n",
        "  heat.set_title(f\"Correlation Matrix: {image_names[i]}\")\n",
        "\n",
        "  plt.savefig(f'{output_folder}/{im_folders[i]}/{image_names[i]}_correlationViz.jpg')\n",
        "  i += 1\n"
      ]
    }
  ],
  "metadata": {
    "colab": {
      "provenance": [],
      "include_colab_link": true
    },
    "kernelspec": {
      "display_name": "Python 3",
      "name": "python3"
    }
  },
  "nbformat": 4,
  "nbformat_minor": 0
}